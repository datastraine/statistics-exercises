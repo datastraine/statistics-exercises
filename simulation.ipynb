{
 "cells": [
  {
   "cell_type": "code",
   "execution_count": 2,
   "metadata": {},
   "outputs": [
    {
     "name": "stdout",
     "output_type": "stream",
     "text": [
      "Success\n"
     ]
    }
   ],
   "source": [
    "import numpy as np\n",
    "import pandas as pd\n",
    "print(\"Success\")"
   ]
  },
  {
   "cell_type": "markdown",
   "metadata": {},
   "source": [
    "How likely is it that you roll doubles when rolling two dice?"
   ]
  },
  {
   "cell_type": "code",
   "execution_count": 3,
   "metadata": {},
   "outputs": [
    {
     "data": {
      "text/plain": [
       "0.167391"
      ]
     },
     "execution_count": 3,
     "metadata": {},
     "output_type": "execute_result"
    }
   ],
   "source": [
    "# Assign varaibles to the number of times we will roll both set of dice\n",
    "n_trials = nrows = 1_000_000\n",
    "# Assign the number dice we'll roll\n",
    "n_dice = ncols = 2\n",
    "\n",
    "# Create a np array that stores the results of the rows\n",
    "rolls = np.random.choice([1, 2, 3, 4, 5, 6], n_trials * n_dice).reshape(nrows, ncols)\n",
    "\n",
    "# Stick the array into a DF\n",
    "probability = pd.DataFrame(rolls)\n",
    "# Create a column that stores the True is both rolls are equal\n",
    "probability['Double'] = probability[0] == probability[1]\n",
    "# Find the mean of the row to get the probaility\n",
    "probability['Double'].mean()"
   ]
  },
  {
   "cell_type": "markdown",
   "metadata": {},
   "source": [
    "If you flip 8 coins, what is the probability of getting exactly 3 heads? "
   ]
  },
  {
   "cell_type": "code",
   "execution_count": 4,
   "metadata": {},
   "outputs": [
    {
     "data": {
      "text/plain": [
       "0.218931"
      ]
     },
     "execution_count": 4,
     "metadata": {},
     "output_type": "execute_result"
    }
   ],
   "source": [
    "# Assign the number of trials to 1mil\n",
    "n_trials = nrows = 1_000_000\n",
    "\n",
    "# Assign the number of instances of each trial to 8\n",
    "n_toss = ncols = 8\n",
    "\n",
    "# Create a np array that stores the results of each coin toss trial where 1 is heads and 0 is tails\n",
    "toss = np.random.choice([1, 0], n_trials * n_toss).reshape(nrows, ncols)\n",
    "\n",
    "# Sum each row and if the sum = 3 assign a True or False if each heads came up exactly 3 times during a trial\n",
    "toss_prob = toss.sum(axis=1) == 3\n",
    "toss_prob.mean()"
   ]
  },
  {
   "cell_type": "code",
   "execution_count": 5,
   "metadata": {},
   "outputs": [
    {
     "data": {
      "text/plain": [
       "0.218712"
      ]
     },
     "execution_count": 5,
     "metadata": {},
     "output_type": "execute_result"
    }
   ],
   "source": [
    "# Metod 2 using String values rather than numbers\n",
    "# Assign the number of trials to 1mil\n",
    "n_trials = nrows = 1000000\n",
    "\n",
    "# Assign the number of instances of each trial to 8\n",
    "n_toss = ncols = 8\n",
    "\n",
    "# Create a np array that stores the results of each coin toss trial\n",
    "tosses = np.random.choice([\"Heads\", \"Tails\"], n_trials * n_toss).reshape(nrows, ncols)\n",
    "\n",
    "# use the count_nonzero function to count each instance of Heads per trial and assign a true or false value if..\n",
    "# the number of times heads comes up is 3\n",
    "flips = np.count_nonzero(tosses == \"Heads\", axis=1) == 3\n",
    "# Fin the mean for the number of times heads came up 3 times during a trial\n",
    "flips.mean()"
   ]
  },
  {
   "cell_type": "markdown",
   "metadata": {},
   "source": [
    "What is the probability of getting more than 3 heads?"
   ]
  },
  {
   "cell_type": "code",
   "execution_count": 6,
   "metadata": {
    "scrolled": true
   },
   "outputs": [
    {
     "data": {
      "text/plain": [
       "0.63667"
      ]
     },
     "execution_count": 6,
     "metadata": {},
     "output_type": "execute_result"
    }
   ],
   "source": [
    "# Assign the number of trials to 1mil\n",
    "n_trials = nrows = 1_000_000\n",
    "\n",
    "# Assign the number of instances of each trial to 8\n",
    "n_toss = ncols = 8\n",
    "\n",
    "# Create a np array that stores the results of each coin toss trial where 1 is heads and 0 is tails\n",
    "toss = np.random.choice([1, 0], n_trials * n_toss).reshape(nrows, ncols)\n",
    "\n",
    "# Sum each row and if the sum > 3 assign a True or False if each heads came up exactly 3 times during a trial\n",
    "toss_prob = toss.sum(axis=1) > 3\n",
    "toss_prob.mean()"
   ]
  },
  {
   "cell_type": "markdown",
   "metadata": {},
   "source": [
    "There are approximitely 3 web development cohorts for every 1 data science cohort at Codeup. Assuming that Codeup randomly selects an alumni to put on a billboard, what are the odds that the two billboards I drive past both have data science students on them?"
   ]
  },
  {
   "cell_type": "code",
   "execution_count": 60,
   "metadata": {},
   "outputs": [
    {
     "data": {
      "text/plain": [
       "0.062524"
      ]
     },
     "execution_count": 60,
     "metadata": {},
     "output_type": "execute_result"
    }
   ],
   "source": [
    "p_DS = .25\n",
    "nstu = ncols = 2\n",
    "n_simulated = nrows = 1000000\n",
    "\n",
    "data = np.random.random((nrows, ncols))\n",
    "\n",
    "ds = data <= p_DS\n",
    "\n",
    "(ds.sum(axis=1) == 2).mean()"
   ]
  },
  {
   "cell_type": "markdown",
   "metadata": {},
   "source": [
    "Codeup students buy, on average, 3 poptart packages (+- 1.5) a day from the snack vending machine. If on monday the machine is restocked with 17 poptart packages, how likely is it that I will be able to buy some poptarts on Friday afternoon?"
   ]
  },
  {
   "cell_type": "code",
   "execution_count": 69,
   "metadata": {},
   "outputs": [
    {
     "data": {
      "text/plain": [
       "0.724799"
      ]
     },
     "execution_count": 69,
     "metadata": {},
     "output_type": "execute_result"
    }
   ],
   "source": [
    "# Use np.random.normal to create a random distribution based on the question\n",
    "pop_tarts = np.random.normal(3, 1.5, size=(1000000,5))\n",
    "\n",
    "# Along axis 1, sum the number of poptars bought and pull in true or false valuse if the number is less than 17\n",
    "can_buy = pop_tarts.sum(axis=1)\n",
    "\n",
    "# Find the mean of true values\n",
    "(can_buy <17).mean()"
   ]
  },
  {
   "cell_type": "markdown",
   "metadata": {},
   "source": [
    "Compare Heights\n",
    "\n",
    "* Men have an average height of 178 cm and standard deviation of 8cm.\n",
    "* Women have a mean of 170, sd = 6cm.\n",
    "* If a man and woman are chosen at random, P(woman taller than man)?"
   ]
  },
  {
   "cell_type": "code",
   "execution_count": 71,
   "metadata": {
    "scrolled": true
   },
   "outputs": [
    {
     "data": {
      "text/plain": [
       "0.212071"
      ]
     },
     "execution_count": 71,
     "metadata": {},
     "output_type": "execute_result"
    }
   ],
   "source": [
    "mheight = np.random.normal(178 , 8, size=(1000000,1))\n",
    "\n",
    "fheight = np.random.normal(170 , 6, size=(1000000,1))\n",
    "\n",
    "(fheight > mheight).mean()"
   ]
  },
  {
   "cell_type": "markdown",
   "metadata": {},
   "source": [
    "When installing anaconda on a student's computer, there's a 1 in 250 chance that the download is corrupted and the installation fails. What are the odds that after having 50 students download anaconda, no one has an installation issue? 100 students?"
   ]
  },
  {
   "cell_type": "code",
   "execution_count": 14,
   "metadata": {
    "scrolled": true
   },
   "outputs": [
    {
     "data": {
      "text/plain": [
       "0.818305"
      ]
     },
     "execution_count": 14,
     "metadata": {},
     "output_type": "execute_result"
    }
   ],
   "source": [
    "# The chance a student fails\n",
    "p_fail = 1/250\n",
    "\n",
    "# The number of students\n",
    "nstu = ncols = 50\n",
    "# The number of simulations ran\n",
    "n_simulated = nrows = 1000000\n",
    "\n",
    "# Use random to assign random values to each student for each simulation\n",
    "data = np.random.random((nrows, ncols))\n",
    "\n",
    "# If the number is less than or equal to the fail chance then it fails (True or 1)\n",
    "fail = data <= p_fail\n",
    "\n",
    "#Sum the number of non fails (False or 0) and if 0 then True and find the mean of true values\n",
    "(fail.sum(axis=1) == 0).mean()\n",
    "\n"
   ]
  },
  {
   "cell_type": "code",
   "execution_count": 15,
   "metadata": {},
   "outputs": [
    {
     "data": {
      "text/plain": [
       "0.669919"
      ]
     },
     "execution_count": 15,
     "metadata": {},
     "output_type": "execute_result"
    }
   ],
   "source": [
    "# Same as above but with more students\n",
    "p_fail = 1/250\n",
    "nstu = ncols = 100\n",
    "n_simulated = nrows = 1000000\n",
    "\n",
    "data = np.random.random((nrows, ncols))\n",
    "\n",
    "fail = data <= p_fail\n",
    "\n",
    "\n",
    "(fail.sum(axis=1) == 0).mean()"
   ]
  },
  {
   "cell_type": "markdown",
   "metadata": {},
   "source": [
    "There's a 70% chance on any given day that there will be at least one food truck at Travis Park. However, you haven't seen a food truck there in 3 days. How unlikely is this?"
   ]
  },
  {
   "cell_type": "code",
   "execution_count": 39,
   "metadata": {},
   "outputs": [
    {
     "data": {
      "text/plain": [
       "0.026937"
      ]
     },
     "execution_count": 39,
     "metadata": {},
     "output_type": "execute_result"
    }
   ],
   "source": [
    "p_truck = .3\n",
    "n_days = ncols = 3\n",
    "n_sims = nrows = 1000000\n",
    "\n",
    "truck_data = np.random.random((nrows, ncols))\n",
    "\n",
    "truck = truck_data <= p_truck\n",
    "(truck.sum(axis=1) == 3).mean()"
   ]
  },
  {
   "cell_type": "markdown",
   "metadata": {},
   "source": [
    "If 23 people are in the same room, what are the odds that two of them share a birthday? What if it's 20 people? 40?"
   ]
  },
  {
   "cell_type": "code",
   "execution_count": 65,
   "metadata": {},
   "outputs": [
    {
     "data": {
      "text/html": [
       "<div>\n",
       "<style scoped>\n",
       "    .dataframe tbody tr th:only-of-type {\n",
       "        vertical-align: middle;\n",
       "    }\n",
       "\n",
       "    .dataframe tbody tr th {\n",
       "        vertical-align: top;\n",
       "    }\n",
       "\n",
       "    .dataframe thead th {\n",
       "        text-align: right;\n",
       "    }\n",
       "</style>\n",
       "<table border=\"1\" class=\"dataframe\">\n",
       "  <thead>\n",
       "    <tr style=\"text-align: right;\">\n",
       "      <th></th>\n",
       "      <th>0</th>\n",
       "    </tr>\n",
       "  </thead>\n",
       "  <tbody>\n",
       "    <tr>\n",
       "      <th>0</th>\n",
       "      <td>322.694111</td>\n",
       "    </tr>\n",
       "    <tr>\n",
       "      <th>1</th>\n",
       "      <td>56.979468</td>\n",
       "    </tr>\n",
       "    <tr>\n",
       "      <th>2</th>\n",
       "      <td>107.862781</td>\n",
       "    </tr>\n",
       "    <tr>\n",
       "      <th>3</th>\n",
       "      <td>89.488808</td>\n",
       "    </tr>\n",
       "    <tr>\n",
       "      <th>4</th>\n",
       "      <td>103.793522</td>\n",
       "    </tr>\n",
       "    <tr>\n",
       "      <th>...</th>\n",
       "      <td>...</td>\n",
       "    </tr>\n",
       "    <tr>\n",
       "      <th>999995</th>\n",
       "      <td>133.237007</td>\n",
       "    </tr>\n",
       "    <tr>\n",
       "      <th>999996</th>\n",
       "      <td>241.409569</td>\n",
       "    </tr>\n",
       "    <tr>\n",
       "      <th>999997</th>\n",
       "      <td>140.467031</td>\n",
       "    </tr>\n",
       "    <tr>\n",
       "      <th>999998</th>\n",
       "      <td>60.078640</td>\n",
       "    </tr>\n",
       "    <tr>\n",
       "      <th>999999</th>\n",
       "      <td>250.412317</td>\n",
       "    </tr>\n",
       "  </tbody>\n",
       "</table>\n",
       "<p>1000000 rows × 1 columns</p>\n",
       "</div>"
      ],
      "text/plain": [
       "                 0\n",
       "0       322.694111\n",
       "1        56.979468\n",
       "2       107.862781\n",
       "3        89.488808\n",
       "4       103.793522\n",
       "...            ...\n",
       "999995  133.237007\n",
       "999996  241.409569\n",
       "999997  140.467031\n",
       "999998   60.078640\n",
       "999999  250.412317\n",
       "\n",
       "[1000000 rows x 1 columns]"
      ]
     },
     "execution_count": 65,
     "metadata": {},
     "output_type": "execute_result"
    }
   ],
   "source": [
    "one = pd.DataFrame(np.random.uniform(1,365,1000000))\n",
    "one "
   ]
  },
  {
   "cell_type": "code",
   "execution_count": null,
   "metadata": {},
   "outputs": [],
   "source": []
  }
 ],
 "metadata": {
  "kernelspec": {
   "display_name": "Python 3",
   "language": "python",
   "name": "python3"
  },
  "language_info": {
   "codemirror_mode": {
    "name": "ipython",
    "version": 3
   },
   "file_extension": ".py",
   "mimetype": "text/x-python",
   "name": "python",
   "nbconvert_exporter": "python",
   "pygments_lexer": "ipython3",
   "version": "3.8.3"
  }
 },
 "nbformat": 4,
 "nbformat_minor": 4
}
