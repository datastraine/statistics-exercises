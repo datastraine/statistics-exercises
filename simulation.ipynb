{
 "cells": [
  {
   "cell_type": "code",
   "execution_count": 2,
   "metadata": {},
   "outputs": [
    {
     "name": "stdout",
     "output_type": "stream",
     "text": [
      "Success\n"
     ]
    }
   ],
   "source": [
    "import numpy as np\n",
    "import pandas as pd\n",
    "print(\"Success\")"
   ]
  },
  {
   "cell_type": "markdown",
   "metadata": {},
   "source": [
    "How likely is it that you roll doubles when rolling two dice?"
   ]
  },
  {
   "cell_type": "code",
   "execution_count": 3,
   "metadata": {},
   "outputs": [
    {
     "data": {
      "text/plain": [
       "0.167391"
      ]
     },
     "execution_count": 3,
     "metadata": {},
     "output_type": "execute_result"
    }
   ],
   "source": [
    "# Assign varaibles to the number of times we will roll both set of dice\n",
    "n_trials = nrows = 1_000_000\n",
    "# Assign the number dice we'll roll\n",
    "n_dice = ncols = 2\n",
    "\n",
    "# Create a np array that stores the results of the rows\n",
    "rolls = np.random.choice([1, 2, 3, 4, 5, 6], n_trials * n_dice).reshape(nrows, ncols)\n",
    "\n",
    "# Stick the array into a DF\n",
    "probability = pd.DataFrame(rolls)\n",
    "# Create a column that stores the True is both rolls are equal\n",
    "probability['Double'] = probability[0] == probability[1]\n",
    "# Find the mean of the row to get the probaility\n",
    "probability['Double'].mean()"
   ]
  },
  {
   "cell_type": "markdown",
   "metadata": {},
   "source": [
    "If you flip 8 coins, what is the probability of getting exactly 3 heads? "
   ]
  },
  {
   "cell_type": "code",
   "execution_count": 4,
   "metadata": {},
   "outputs": [
    {
     "data": {
      "text/plain": [
       "0.218931"
      ]
     },
     "execution_count": 4,
     "metadata": {},
     "output_type": "execute_result"
    }
   ],
   "source": [
    "# Assign the number of trials to 1mil\n",
    "n_trials = nrows = 1_000_000\n",
    "\n",
    "# Assign the number of instances of each trial to 8\n",
    "n_toss = ncols = 8\n",
    "\n",
    "# Create a np array that stores the results of each coin toss trial where 1 is heads and 0 is tails\n",
    "toss = np.random.choice([1, 0], n_trials * n_toss).reshape(nrows, ncols)\n",
    "\n",
    "# Sum each row and if the sum = 3 assign a True or False if each heads came up exactly 3 times during a trial\n",
    "toss_prob = toss.sum(axis=1) == 3\n",
    "toss_prob.mean()"
   ]
  },
  {
   "cell_type": "code",
   "execution_count": 5,
   "metadata": {},
   "outputs": [
    {
     "data": {
      "text/plain": [
       "0.218712"
      ]
     },
     "execution_count": 5,
     "metadata": {},
     "output_type": "execute_result"
    }
   ],
   "source": [
    "# Metod 2 using String values rather than numbers\n",
    "# Assign the number of trials to 1mil\n",
    "n_trials = nrows = 1000000\n",
    "\n",
    "# Assign the number of instances of each trial to 8\n",
    "n_toss = ncols = 8\n",
    "\n",
    "# Create a np array that stores the results of each coin toss trial\n",
    "tosses = np.random.choice([\"Heads\", \"Tails\"], n_trials * n_toss).reshape(nrows, ncols)\n",
    "\n",
    "# use the count_nonzero function to count each instance of Heads per trial and assign a true or false value if..\n",
    "# the number of times heads comes up is 3\n",
    "flips = np.count_nonzero(tosses == \"Heads\", axis=1) == 3\n",
    "# Fin the mean for the number of times heads came up 3 times during a trial\n",
    "flips.mean()"
   ]
  },
  {
   "cell_type": "markdown",
   "metadata": {},
   "source": [
    "What is the probability of getting more than 3 heads?"
   ]
  },
  {
   "cell_type": "code",
   "execution_count": 6,
   "metadata": {
    "scrolled": true
   },
   "outputs": [
    {
     "data": {
      "text/plain": [
       "0.63667"
      ]
     },
     "execution_count": 6,
     "metadata": {},
     "output_type": "execute_result"
    }
   ],
   "source": [
    "# Assign the number of trials to 1mil\n",
    "n_trials = nrows = 1_000_000\n",
    "\n",
    "# Assign the number of instances of each trial to 8\n",
    "n_toss = ncols = 8\n",
    "\n",
    "# Create a np array that stores the results of each coin toss trial where 1 is heads and 0 is tails\n",
    "toss = np.random.choice([1, 0], n_trials * n_toss).reshape(nrows, ncols)\n",
    "\n",
    "# Sum each row and if the sum > 3 assign a True or False if each heads came up exactly 3 times during a trial\n",
    "toss_prob = toss.sum(axis=1) > 3\n",
    "toss_prob.mean()"
   ]
  },
  {
   "cell_type": "markdown",
   "metadata": {},
   "source": [
    "There are approximitely 3 web development cohorts for every 1 data science cohort at Codeup. Assuming that Codeup randomly selects an alumni to put on a billboard, what are the odds that the two billboards I drive past both have data science students on them?"
   ]
  },
  {
   "cell_type": "code",
   "execution_count": 60,
   "metadata": {},
   "outputs": [
    {
     "data": {
      "text/plain": [
       "0.062524"
      ]
     },
     "execution_count": 60,
     "metadata": {},
     "output_type": "execute_result"
    }
   ],
   "source": [
    "p_DS = .25\n",
    "nstu = ncols = 2\n",
    "n_simulated = nrows = 1000000\n",
    "\n",
    "data = np.random.random((nrows, ncols))\n",
    "\n",
    "ds = data <= p_DS\n",
    "\n",
    "(ds.sum(axis=1) == 2).mean()"
   ]
  },
  {
   "cell_type": "markdown",
   "metadata": {},
   "source": [
    "Codeup students buy, on average, 3 poptart packages (+- 1.5) a day from the snack vending machine. If on monday the machine is restocked with 17 poptart packages, how likely is it that I will be able to buy some poptarts on Friday afternoon?"
   ]
  },
  {
   "cell_type": "code",
   "execution_count": 69,
   "metadata": {},
   "outputs": [
    {
     "data": {
      "text/plain": [
       "0.724799"
      ]
     },
     "execution_count": 69,
     "metadata": {},
     "output_type": "execute_result"
    }
   ],
   "source": [
    "# Use np.random.normal to create a random distribution based on the question\n",
    "pop_tarts = np.random.normal(3, 1.5, size=(1000000,5))\n",
    "\n",
    "# Along axis 1, sum the number of poptars bought and pull in true or false valuse if the number is less than 17\n",
    "can_buy = pop_tarts.sum(axis=1)\n",
    "\n",
    "# Find the mean of true values\n",
    "(can_buy <17).mean()"
   ]
  },
  {
   "cell_type": "markdown",
   "metadata": {},
   "source": [
    "Compare Heights\n",
    "\n",
    "* Men have an average height of 178 cm and standard deviation of 8cm.\n",
    "* Women have a mean of 170, sd = 6cm.\n",
    "* If a man and woman are chosen at random, P(woman taller than man)?"
   ]
  },
  {
   "cell_type": "code",
   "execution_count": 71,
   "metadata": {
    "scrolled": true
   },
   "outputs": [
    {
     "data": {
      "text/plain": [
       "0.212071"
      ]
     },
     "execution_count": 71,
     "metadata": {},
     "output_type": "execute_result"
    }
   ],
   "source": [
    "mheight = np.random.normal(178 , 8, size=(1000000,1))\n",
    "\n",
    "fheight = np.random.normal(170 , 6, size=(1000000,1))\n",
    "\n",
    "(fheight > mheight).mean()"
   ]
  },
  {
   "cell_type": "markdown",
   "metadata": {},
   "source": [
    "When installing anaconda on a student's computer, there's a 1 in 250 chance that the download is corrupted and the installation fails. What are the odds that after having 50 students download anaconda, no one has an installation issue? 100 students?"
   ]
  },
  {
   "cell_type": "code",
   "execution_count": 14,
   "metadata": {
    "scrolled": true
   },
   "outputs": [
    {
     "data": {
      "text/plain": [
       "0.818305"
      ]
     },
     "execution_count": 14,
     "metadata": {},
     "output_type": "execute_result"
    }
   ],
   "source": [
    "# The chance a student fails\n",
    "p_fail = 1/250\n",
    "\n",
    "# The number of students\n",
    "nstu = ncols = 50\n",
    "# The number of simulations ran\n",
    "n_simulated = nrows = 1000000\n",
    "\n",
    "# Use random to assign random values to each student for each simulation\n",
    "data = np.random.random((nrows, ncols))\n",
    "\n",
    "# If the number is less than or equal to the fail chance then it fails (True or 1)\n",
    "fail = data <= p_fail\n",
    "\n",
    "#Sum the number of non fails (False or 0) and if 0 then True and find the mean of true values\n",
    "(fail.sum(axis=1) == 0).mean()\n",
    "\n"
   ]
  },
  {
   "cell_type": "code",
   "execution_count": 15,
   "metadata": {},
   "outputs": [
    {
     "data": {
      "text/plain": [
       "0.669919"
      ]
     },
     "execution_count": 15,
     "metadata": {},
     "output_type": "execute_result"
    }
   ],
   "source": [
    "# Same as above but with more students\n",
    "p_fail = 1/250\n",
    "nstu = ncols = 100\n",
    "n_simulated = nrows = 1000000\n",
    "\n",
    "data = np.random.random((nrows, ncols))\n",
    "\n",
    "fail = data <= p_fail\n",
    "\n",
    "\n",
    "(fail.sum(axis=1) == 0).mean()"
   ]
  },
  {
   "cell_type": "markdown",
   "metadata": {},
   "source": [
    "What is the probability that we observe an installation issue within the first 150 students that download anaconda?"
   ]
  },
  {
   "cell_type": "code",
   "execution_count": 76,
   "metadata": {},
   "outputs": [
    {
     "data": {
      "text/plain": [
       "0.452327"
      ]
     },
     "execution_count": 76,
     "metadata": {},
     "output_type": "execute_result"
    }
   ],
   "source": [
    "# Same as above but with more students\n",
    "p_fail = 1/250\n",
    "nstu = ncols = 150\n",
    "n_simulated = nrows = 1000000\n",
    "\n",
    "data = np.random.random((nrows, ncols))\n",
    "\n",
    "fail = data <= p_fail\n",
    "\n",
    "\n",
    "(fail.sum(axis=1) > 0).mean()"
   ]
  },
  {
   "cell_type": "markdown",
   "metadata": {},
   "source": [
    "\n",
    "How likely is it that 450 students all download anaconda without an issue?"
   ]
  },
  {
   "cell_type": "code",
   "execution_count": 73,
   "metadata": {},
   "outputs": [
    {
     "data": {
      "text/plain": [
       "0.164906"
      ]
     },
     "execution_count": 73,
     "metadata": {},
     "output_type": "execute_result"
    }
   ],
   "source": [
    "# Same as above but with more students\n",
    "p_fail = 1/250\n",
    "nstu = ncols = 450\n",
    "n_simulated = nrows = 1000000\n",
    "\n",
    "data = np.random.random((nrows, ncols))\n",
    "\n",
    "fail = data <= p_fail\n",
    "\n",
    "\n",
    "(fail.sum(axis=1) == 0).mean()"
   ]
  },
  {
   "cell_type": "markdown",
   "metadata": {},
   "source": [
    "There's a 70% chance on any given day that there will be at least one food truck at Travis Park. However, you haven't seen a food truck there in 3 days. How unlikely is this?"
   ]
  },
  {
   "cell_type": "code",
   "execution_count": 39,
   "metadata": {},
   "outputs": [
    {
     "data": {
      "text/plain": [
       "0.026937"
      ]
     },
     "execution_count": 39,
     "metadata": {},
     "output_type": "execute_result"
    }
   ],
   "source": [
    "p_truck = .3\n",
    "n_days = ncols = 3\n",
    "n_sims = nrows = 1000000\n",
    "\n",
    "truck_data = np.random.random((nrows, ncols))\n",
    "\n",
    "truck = truck_data <= p_truck\n",
    "(truck.sum(axis=1) == 3).mean()"
   ]
  },
  {
   "cell_type": "markdown",
   "metadata": {},
   "source": [
    "How likely is it that a food truck will show up sometime this week?"
   ]
  },
  {
   "cell_type": "code",
   "execution_count": 80,
   "metadata": {},
   "outputs": [
    {
     "data": {
      "text/plain": [
       "0.999795"
      ]
     },
     "execution_count": 80,
     "metadata": {},
     "output_type": "execute_result"
    }
   ],
   "source": [
    "p_truck = .7\n",
    "n_days = ncols = 7\n",
    "n_sims = nrows = 1000000\n",
    "\n",
    "truck_data = np.random.random((nrows, ncols))\n",
    "\n",
    "(truck_data.sum(axis=1) >= 1).mean()"
   ]
  },
  {
   "cell_type": "markdown",
   "metadata": {},
   "source": [
    "If 23 people are in the same room, what are the odds that:\n",
    "* two of them share a birthday?\n",
    "* What if it's 20 people? \n",
    "* 40?"
   ]
  },
  {
   "cell_type": "code",
   "execution_count": 88,
   "metadata": {},
   "outputs": [
    {
     "data": {
      "text/plain": [
       "0.50835"
      ]
     },
     "execution_count": 88,
     "metadata": {},
     "output_type": "execute_result"
    }
   ],
   "source": [
    "n_simulation = 100000\n",
    "n_people = 23 \n",
    "birthday = pd.DataFrame(np.random.choice(range(365), size = (n_simulation, n_people)))\n",
    "birthday['uniques'] = birthday.nunique(axis=1)\n",
    "(birthday.uniques != 23).mean()"
   ]
  },
  {
   "cell_type": "code",
   "execution_count": 92,
   "metadata": {},
   "outputs": [
    {
     "data": {
      "text/plain": [
       "0.41051"
      ]
     },
     "execution_count": 92,
     "metadata": {},
     "output_type": "execute_result"
    }
   ],
   "source": [
    "n_simulation = 100000\n",
    "n_people = 20 \n",
    "birthday = pd.DataFrame(np.random.choice(range(365), size = (n_simulation, n_people)))\n",
    "birthday['uniques'] = birthday.nunique(axis=1)\n",
    "(birthday.uniques != 20).mean()"
   ]
  },
  {
   "cell_type": "code",
   "execution_count": 91,
   "metadata": {},
   "outputs": [
    {
     "data": {
      "text/plain": [
       "0.89082"
      ]
     },
     "execution_count": 91,
     "metadata": {},
     "output_type": "execute_result"
    }
   ],
   "source": [
    "n_simulation = 100000\n",
    "n_people = 40 \n",
    "birthday = pd.DataFrame(np.random.choice(range(365), size = (n_simulation, n_people)))\n",
    "birthday['uniques'] = birthday.nunique(axis=1)\n",
    "(birthday.uniques != 40).mean()"
   ]
  },
  {
   "cell_type": "code",
   "execution_count": null,
   "metadata": {},
   "outputs": [],
   "source": []
  }
 ],
 "metadata": {
  "kernelspec": {
   "display_name": "Python 3",
   "language": "python",
   "name": "python3"
  },
  "language_info": {
   "codemirror_mode": {
    "name": "ipython",
    "version": 3
   },
   "file_extension": ".py",
   "mimetype": "text/x-python",
   "name": "python",
   "nbconvert_exporter": "python",
   "pygments_lexer": "ipython3",
   "version": "3.8.3"
  }
 },
 "nbformat": 4,
 "nbformat_minor": 4
}
