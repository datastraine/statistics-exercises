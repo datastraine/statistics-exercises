{
 "cells": [
  {
   "cell_type": "code",
   "execution_count": 2,
   "metadata": {},
   "outputs": [
    {
     "name": "stdout",
     "output_type": "stream",
     "text": [
      "Success\n"
     ]
    }
   ],
   "source": [
    "import numpy as np\n",
    "import pandas as pd\n",
    "print(\"Success\")"
   ]
  },
  {
   "cell_type": "markdown",
   "metadata": {},
   "source": [
    "How likely is it that you roll doubles when rolling two dice?"
   ]
  },
  {
   "cell_type": "code",
   "execution_count": 61,
   "metadata": {},
   "outputs": [
    {
     "data": {
      "text/plain": [
       "0.166963"
      ]
     },
     "execution_count": 61,
     "metadata": {},
     "output_type": "execute_result"
    }
   ],
   "source": [
    "# Assign varaibles to the number of times we will roll both set of dice\n",
    "n_trials = nrows = 1_000_000\n",
    "# Assign the number dice we'll roll\n",
    "n_dice = ncols = 2\n",
    "\n",
    "# Create a np array that stores the results of the rows\n",
    "rolls = np.random.choice([1, 2, 3, 4, 5, 6], n_trials * n_dice).reshape(nrows, ncols)\n",
    "\n",
    "# Stick the array into a DF\n",
    "probability = pd.DataFrame(rolls)\n",
    "# Create a column that stores the True is both rolls are equal\n",
    "probability['Double'] = probability[0] == probability[1]\n",
    "# Find the mean of the row to get the probaility\n",
    "probability['Double'].mean()"
   ]
  },
  {
   "cell_type": "markdown",
   "metadata": {},
   "source": [
    "If you flip 8 coins, what is the probability of getting exactly 3 heads? "
   ]
  },
  {
   "cell_type": "code",
   "execution_count": 137,
   "metadata": {},
   "outputs": [
    {
     "data": {
      "text/plain": [
       "0.218863"
      ]
     },
     "execution_count": 137,
     "metadata": {},
     "output_type": "execute_result"
    }
   ],
   "source": [
    "# Assign the number of trials to 1mil\n",
    "n_trials = nrows = 1_000_000\n",
    "\n",
    "# Assign the number of instances of each trial to 8\n",
    "n_toss = ncols = 8\n",
    "\n",
    "# Create a np array that stores the results of each coin toss trial where 1 is heads and 0 is tails\n",
    "toss = np.random.choice([1, 0], n_trials * n_toss).reshape(nrows, ncols)\n",
    "\n",
    "# Sum each row and if the sum = 3 assign a True or False if each heads came up exactly 3 times during a trial\n",
    "toss_prob = toss.sum(axis=1) == 3\n",
    "toss_prob.mean()"
   ]
  },
  {
   "cell_type": "code",
   "execution_count": 138,
   "metadata": {},
   "outputs": [
    {
     "data": {
      "text/plain": [
       "0.218509"
      ]
     },
     "execution_count": 138,
     "metadata": {},
     "output_type": "execute_result"
    }
   ],
   "source": [
    "# Metod 2 using String values rather than numbers\n",
    "# Assign the number of trials to 1mil\n",
    "n_trials = nrows = 1000000\n",
    "\n",
    "# Assign the number of instances of each trial to 8\n",
    "n_toss = ncols = 8\n",
    "\n",
    "# Create a np array that stores the results of each coin toss trial\n",
    "tosses = np.random.choice([\"Heads\", \"Tails\"], n_trials * n_toss).reshape(nrows, ncols)\n",
    "\n",
    "# use the count_nonzero function to count each instance of Heads per trial and assign a true or false value if..\n",
    "# the number of times heads comes up is 3\n",
    "flips = np.count_nonzero(tosses == \"Heads\", axis=1) == 3\n",
    "# Fin the mean for the number of times heads came up 3 times during a trial\n",
    "flips.mean()"
   ]
  },
  {
   "cell_type": "markdown",
   "metadata": {},
   "source": [
    "What is the probability of getting more than 3 heads?"
   ]
  },
  {
   "cell_type": "code",
   "execution_count": 141,
   "metadata": {},
   "outputs": [
    {
     "data": {
      "text/plain": [
       "0.635717"
      ]
     },
     "execution_count": 141,
     "metadata": {},
     "output_type": "execute_result"
    }
   ],
   "source": [
    "# Assign the number of trials to 1mil\n",
    "n_trials = nrows = 1_000_000\n",
    "\n",
    "# Assign the number of instances of each trial to 8\n",
    "n_toss = ncols = 8\n",
    "\n",
    "# Create a np array that stores the results of each coin toss trial where 1 is heads and 0 is tails\n",
    "toss = np.random.choice([1, 0], n_trials * n_toss).reshape(nrows, ncols)\n",
    "\n",
    "# Sum each row and if the sum > 3 assign a True or False if each heads came up exactly 3 times during a trial\n",
    "toss_prob = toss.sum(axis=1) > 3\n",
    "toss_prob.mean()"
   ]
  },
  {
   "cell_type": "markdown",
   "metadata": {},
   "source": [
    "Codeup students buy, on average, 3 poptart packages (+- 1.5) a day from the snack vending machine. If on monday the machine is restocked with 17 poptart packages, how likely is it that I will be able to buy some poptarts on Friday afternoon?"
   ]
  },
  {
   "cell_type": "code",
   "execution_count": 149,
   "metadata": {},
   "outputs": [
    {
     "data": {
      "text/plain": [
       "0.724247"
      ]
     },
     "execution_count": 149,
     "metadata": {},
     "output_type": "execute_result"
    }
   ],
   "source": [
    "# Use np.random.normal to create a random distribution based on the question\n",
    "pop_tarts = np.random.normal(3, 1.5, size=(1000000,5))\n",
    "\n",
    "# Along axis 1, sum the number of poptars bought and pull in true or false valuse if the number is less than 17\n",
    "can_buy = pop_tarts.sum(axis=1) < 17\n",
    "\n",
    "# Find the mean of true values\n",
    "can_buy.mean()"
   ]
  },
  {
   "cell_type": "code",
   "execution_count": null,
   "metadata": {},
   "outputs": [],
   "source": []
  }
 ],
 "metadata": {
  "kernelspec": {
   "display_name": "Python 3",
   "language": "python",
   "name": "python3"
  },
  "language_info": {
   "codemirror_mode": {
    "name": "ipython",
    "version": 3
   },
   "file_extension": ".py",
   "mimetype": "text/x-python",
   "name": "python",
   "nbconvert_exporter": "python",
   "pygments_lexer": "ipython3",
   "version": "3.8.3"
  }
 },
 "nbformat": 4,
 "nbformat_minor": 4
}
