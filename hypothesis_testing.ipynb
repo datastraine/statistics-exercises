{
 "cells": [
  {
   "cell_type": "markdown",
   "metadata": {},
   "source": [
    "For each of the following questions, formulate a null and alternative hypothesis (be as specific as you can be), then give an example of what a true positive, true negative, type I and type II errors would look like. Note that some of the questions are intentionally phrased in a vague way. It is your job to reword these as more precise questions that could be tested."
   ]
  },
  {
   "cell_type": "markdown",
   "metadata": {},
   "source": [
    "1) Has the network latency gone up since we switched internet service providers?\n"
   ]
  },
  {
   "cell_type": "markdown",
   "metadata": {},
   "source": [
    "* H0: There has been no chance in latency since we switched internet providers.\n",
    "* Ha: There has been in increase in latency since we switched interet providers.\n",
    "* True Negative: After looking at the data, we have deteremined that our latency has not changed.\n",
    "* True Positive: The new ISP has impacted latency.\n",
    "* Type 1: We have observed a change in latency; however, there has not been a change in latency.\n",
    "* Type 2: We have observed no change in latency; however, there has been an impact to latency."
   ]
  },
  {
   "cell_type": "markdown",
   "metadata": {},
   "source": [
    "2) Is the website redesign any good?"
   ]
  },
  {
   "cell_type": "markdown",
   "metadata": {},
   "source": [
    "* H0: There been no change in user retention since the website redesign.\n",
    "* Ha: There has been a decrease in user churn since the website redesign.\n",
    "* True Negative: After looking at the data, we have deteremined that the redesign has not impacted customer retention.\n",
    "* True Positive: The new redesign has impacted customer retention.\n",
    "* Type 1: We have observed a change in customer retention; however there has not actually been a change in customer retention .\n",
    "* Type 2: We have observed no change in customer retention; however, there has been a change in customer retention."
   ]
  },
  {
   "cell_type": "markdown",
   "metadata": {},
   "source": [
    "3) Is our television ad driving more sales?\n"
   ]
  },
  {
   "cell_type": "markdown",
   "metadata": {},
   "source": [
    "* H0: There has been no change in sales since we started having television ads.\n",
    "* Ha: There has been an increase in sale since we started having television ads.\n",
    "* True Negative: After looking at the data, we have deteremined that sales have remained steady.\n",
    "* True Positive: Since launching the television ad campagin sales have been impacted.\n",
    "* Type 1: We have observed a change in sales; however, this was not caused by the ads.\n",
    "* Type 2: We have observed no change in sales; however, there was a change in sales."
   ]
  },
  {
   "cell_type": "code",
   "execution_count": null,
   "metadata": {},
   "outputs": [],
   "source": []
  }
 ],
 "metadata": {
  "kernelspec": {
   "display_name": "Python 3",
   "language": "python",
   "name": "python3"
  },
  "language_info": {
   "codemirror_mode": {
    "name": "ipython",
    "version": 3
   },
   "file_extension": ".py",
   "mimetype": "text/x-python",
   "name": "python",
   "nbconvert_exporter": "python",
   "pygments_lexer": "ipython3",
   "version": "3.8.3"
  }
 },
 "nbformat": 4,
 "nbformat_minor": 4
}
